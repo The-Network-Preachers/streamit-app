{
 "cells": [
  {
   "cell_type": "code",
   "execution_count": 20,
   "id": "12cace88",
   "metadata": {},
   "outputs": [
    {
     "name": "stdout",
     "output_type": "stream",
     "text": [
      "Enter the Tolerable Differnce: 10\n",
      "Enter the Total Bandwidths: 2\n",
      "Enter the Bandwidths\n",
      "12 23\n",
      "12  Group:  1\n",
      "23  Group:  2\n"
     ]
    }
   ],
   "source": [
    "max_diff=int(input('Enter the Tolerable Differnce: '))\n",
    "n=int(input('Enter the Total Bandwidths: '))\n",
    "print('Enter the Bandwidths')\n",
    "arr=list(map(int,input().split()))\n",
    "arr.sort()\n",
    "i=0;j=0;group=1\n",
    "\n",
    "while 1:\n",
    "\n",
    "    if arr[i]<=arr[j]+max_diff:\n",
    "        print(arr[i],end='  ')\n",
    "        print('Group: ',group)\n",
    "        i=i+1\n",
    "    else:\n",
    "        j=i\n",
    "        group+=1\n",
    "    \n",
    "    if i==len(arr):\n",
    "        break"
   ]
  },
  {
   "cell_type": "code",
   "execution_count": null,
   "id": "c67e9091",
   "metadata": {},
   "outputs": [],
   "source": []
  }
 ],
 "metadata": {
  "kernelspec": {
   "display_name": "Python 3 (ipykernel)",
   "language": "python",
   "name": "python3"
  },
  "language_info": {
   "codemirror_mode": {
    "name": "ipython",
    "version": 3
   },
   "file_extension": ".py",
   "mimetype": "text/x-python",
   "name": "python",
   "nbconvert_exporter": "python",
   "pygments_lexer": "ipython3",
   "version": "3.9.13"
  }
 },
 "nbformat": 4,
 "nbformat_minor": 5
}
