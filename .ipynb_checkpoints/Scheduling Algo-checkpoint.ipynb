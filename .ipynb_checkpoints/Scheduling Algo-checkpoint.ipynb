{
 "cells": [
  {
   "cell_type": "code",
   "execution_count": 20,
   "id": "12cace88",
   "metadata": {},
   "outputs": [
    {
     "name": "stdout",
     "output_type": "stream",
     "text": [
      "Enter the Tolerable Differnce: 1\n",
      "Enter the Bandwidths\n",
      "1 1.1 1.5 2 4 4.5 5 6 7 9\n",
      "1.0  Group:  1\n",
      "1.1  Group:  1\n",
      "1.5  Group:  1\n",
      "2.0  Group:  1\n",
      "4.0  Group:  2\n",
      "4.5  Group:  2\n",
      "5.0  Group:  2\n",
      "6.0  Group:  3\n",
      "7.0  Group:  3\n",
      "9.0  Group:  4\n"
     ]
    }
   ],
   "source": [
    "max_diff=int(input('Enter the Tolerable Differnce: '))\n",
    "print('Enter the Bandwidths')\n",
    "arr=list(map(float,input().split()))\n",
    "arr.sort()\n",
    "i=0;j=0;group=1\n",
    "\n",
    "while 1:\n",
    "\n",
    "    if arr[i]<=arr[j]+max_diff:\n",
    "        print(arr[i],end='  ')\n",
    "        print('Group: ',group)\n",
    "        i=i+1\n",
    "    else:\n",
    "        j=i\n",
    "        group+=1\n",
    "    \n",
    "    if i==len(arr):\n",
    "        break"
   ]
  },
  {
   "cell_type": "code",
   "execution_count": 18,
   "id": "b7e3f70d",
   "metadata": {},
   "outputs": [
    {
     "name": "stdout",
     "output_type": "stream",
     "text": [
      "Enter the Tolerable Differnce: 10\n",
      "Enter the Bandwidths(in Kbps)\n",
      "10 20 30 35 45 46 200 1300 1309 1319\n",
      "10  Group:  1\n",
      "20  Group:  1\n",
      "30  Group:  1\n",
      "35  Group:  1\n",
      "45  Group:  1\n",
      "46  Group:  1\n",
      "200  Group:  2\n",
      "1300  Group:  3\n",
      "1309  Group:  3\n",
      "1319  Group:  3\n"
     ]
    }
   ],
   "source": [
    "max_diff=int(input('Enter the Tolerable Differnce: '))\n",
    "print('Enter the Bandwidths(in Kbps)')\n",
    "arr=list(map(int,input().split()))\n",
    "arr.sort()\n",
    "i=0;j=1;group=1;count=0\n",
    "\n",
    "for i in range(len(arr)):\n",
    "    print(arr[i],end='  ')\n",
    "    print('Group: ',group)\n",
    "    if j!=len(arr) and arr[j]-arr[i]>max_diff:\n",
    "        group+=1\n",
    "    j+=1\n",
    "\n",
    "#Wrong as it's no longer a cluster!"
   ]
  },
  {
   "cell_type": "code",
   "execution_count": null,
   "id": "c4e9f48f",
   "metadata": {},
   "outputs": [],
   "source": []
  }
 ],
 "metadata": {
  "kernelspec": {
   "display_name": "Python 3 (ipykernel)",
   "language": "python",
   "name": "python3"
  },
  "language_info": {
   "codemirror_mode": {
    "name": "ipython",
    "version": 3
   },
   "file_extension": ".py",
   "mimetype": "text/x-python",
   "name": "python",
   "nbconvert_exporter": "python",
   "pygments_lexer": "ipython3",
   "version": "3.9.13"
  }
 },
 "nbformat": 4,
 "nbformat_minor": 5
}
